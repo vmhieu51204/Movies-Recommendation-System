{
 "cells": [
  {
   "cell_type": "code",
   "execution_count": 25,
   "metadata": {
    "_cell_guid": "b1076dfc-b9ad-4769-8c92-a6c4dae69d19",
    "_uuid": "8f2839f25d086af736a60e9eeb907d3b93b6e0e5",
    "execution": {
     "iopub.execute_input": "2025-08-19T15:37:39.523279Z",
     "iopub.status.busy": "2025-08-19T15:37:39.522953Z",
     "iopub.status.idle": "2025-08-19T15:37:39.530114Z",
     "shell.execute_reply": "2025-08-19T15:37:39.528916Z",
     "shell.execute_reply.started": "2025-08-19T15:37:39.523256Z"
    },
    "trusted": true
   },
   "outputs": [],
   "source": [
    "import torch\n",
    "import torch.nn as nn\n",
    "import torch.optim as optim\n",
    "import numpy as np\n",
    "import pandas as pd\n",
    "from torch.utils.data import DataLoader, TensorDataset\n",
    "import os\n",
    "from ast import literal_eval\n",
    "from sklearn.feature_extraction.text import TfidfVectorizer, CountVectorizer, TfidfTransformer\n",
    "from sklearn.metrics.pairwise import linear_kernel, cosine_similarity\n",
    "\n",
    "from sklearn.model_selection import train_test_split\n",
    "from sklearn.linear_model import LinearRegression, Ridge\n",
    "from sklearn.metrics import mean_squared_error, mean_absolute_error\n",
    "import matplotlib.pyplot as plt\n",
    "from sklearn.ensemble import RandomForestRegressor"
   ]
  },
  {
   "cell_type": "code",
   "execution_count": 26,
   "metadata": {
    "execution": {
     "iopub.execute_input": "2025-08-19T15:37:39.531990Z",
     "iopub.status.busy": "2025-08-19T15:37:39.531618Z",
     "iopub.status.idle": "2025-08-19T15:37:48.562914Z",
     "shell.execute_reply": "2025-08-19T15:37:48.561463Z",
     "shell.execute_reply.started": "2025-08-19T15:37:39.531951Z"
    },
    "trusted": true
   },
   "outputs": [
    {
     "name": "stdout",
     "output_type": "stream",
     "text": [
      "Found existing installation: scikit-learn 1.5.2\n",
      "Uninstalling scikit-learn-1.5.2:\n",
      "  Successfully uninstalled scikit-learn-1.5.2\n",
      "Collecting scikit-learn==1.5.2\n",
      "  Using cached scikit_learn-1.5.2-cp311-cp311-manylinux_2_17_x86_64.manylinux2014_x86_64.whl.metadata (13 kB)\n",
      "Requirement already satisfied: numpy>=1.19.5 in /usr/local/lib/python3.11/dist-packages (from scikit-learn==1.5.2) (1.26.4)\n",
      "Requirement already satisfied: scipy>=1.6.0 in /usr/local/lib/python3.11/dist-packages (from scikit-learn==1.5.2) (1.15.3)\n",
      "Requirement already satisfied: joblib>=1.2.0 in /usr/local/lib/python3.11/dist-packages (from scikit-learn==1.5.2) (1.5.1)\n",
      "Requirement already satisfied: threadpoolctl>=3.1.0 in /usr/local/lib/python3.11/dist-packages (from scikit-learn==1.5.2) (3.6.0)\n",
      "Requirement already satisfied: mkl_fft in /usr/local/lib/python3.11/dist-packages (from numpy>=1.19.5->scikit-learn==1.5.2) (1.3.8)\n",
      "Requirement already satisfied: mkl_random in /usr/local/lib/python3.11/dist-packages (from numpy>=1.19.5->scikit-learn==1.5.2) (1.2.4)\n",
      "Requirement already satisfied: mkl_umath in /usr/local/lib/python3.11/dist-packages (from numpy>=1.19.5->scikit-learn==1.5.2) (0.1.1)\n",
      "Requirement already satisfied: mkl in /usr/local/lib/python3.11/dist-packages (from numpy>=1.19.5->scikit-learn==1.5.2) (2025.2.0)\n",
      "Requirement already satisfied: tbb4py in /usr/local/lib/python3.11/dist-packages (from numpy>=1.19.5->scikit-learn==1.5.2) (2022.2.0)\n",
      "Requirement already satisfied: mkl-service in /usr/local/lib/python3.11/dist-packages (from numpy>=1.19.5->scikit-learn==1.5.2) (2.4.1)\n",
      "Requirement already satisfied: intel-openmp<2026,>=2024 in /usr/local/lib/python3.11/dist-packages (from mkl->numpy>=1.19.5->scikit-learn==1.5.2) (2024.2.0)\n",
      "Requirement already satisfied: tbb==2022.* in /usr/local/lib/python3.11/dist-packages (from mkl->numpy>=1.19.5->scikit-learn==1.5.2) (2022.2.0)\n",
      "Requirement already satisfied: tcmlib==1.* in /usr/local/lib/python3.11/dist-packages (from tbb==2022.*->mkl->numpy>=1.19.5->scikit-learn==1.5.2) (1.4.0)\n",
      "Requirement already satisfied: intel-cmplr-lib-rt in /usr/local/lib/python3.11/dist-packages (from mkl_umath->numpy>=1.19.5->scikit-learn==1.5.2) (2024.2.0)\n",
      "Requirement already satisfied: intel-cmplr-lib-ur==2024.2.0 in /usr/local/lib/python3.11/dist-packages (from intel-openmp<2026,>=2024->mkl->numpy>=1.19.5->scikit-learn==1.5.2) (2024.2.0)\n",
      "Using cached scikit_learn-1.5.2-cp311-cp311-manylinux_2_17_x86_64.manylinux2014_x86_64.whl (13.3 MB)\n",
      "Installing collected packages: scikit-learn\n",
      "\u001b[31mERROR: pip's dependency resolver does not currently take into account all the packages that are installed. This behaviour is the source of the following dependency conflicts.\n",
      "cesium 0.12.4 requires numpy<3.0,>=2.0, but you have numpy 1.26.4 which is incompatible.\u001b[0m\u001b[31m\n",
      "\u001b[0mSuccessfully installed scikit-learn-1.5.2\n"
     ]
    }
   ],
   "source": [
    "!pip uninstall -y scikit-learn\n",
    "!pip install scikit-learn==1.5.2  # This is below 1.6.0 as required by category-encoders"
   ]
  },
  {
   "cell_type": "code",
   "execution_count": 27,
   "metadata": {
    "execution": {
     "iopub.execute_input": "2025-08-19T15:37:48.565692Z",
     "iopub.status.busy": "2025-08-19T15:37:48.565279Z",
     "iopub.status.idle": "2025-08-19T15:38:09.268913Z",
     "shell.execute_reply": "2025-08-19T15:38:09.267747Z",
     "shell.execute_reply.started": "2025-08-19T15:37:48.565659Z"
    },
    "trusted": true
   },
   "outputs": [
    {
     "name": "stderr",
     "output_type": "stream",
     "text": [
      "/tmp/ipykernel_36/1925872324.py:6: DtypeWarning: Columns (10) have mixed types. Specify dtype option on import or set low_memory=False.\n",
      "  movies = pd.read_csv('/kaggle/input/the-movies-dataset/movies_metadata.csv')\n"
     ]
    }
   ],
   "source": [
    "credits = pd.read_csv('/kaggle/input/the-movies-dataset/credits.csv')\n",
    "keywords = pd.read_csv('/kaggle/input/the-movies-dataset/keywords.csv')\n",
    "links_small = pd.read_csv('/kaggle/input/the-movies-dataset/links_small.csv')\n",
    "links_small = links_small[links_small['tmdbId'].notnull()]['tmdbId'].astype('int')\n",
    "\n",
    "movies = pd.read_csv('/kaggle/input/the-movies-dataset/movies_metadata.csv')\n",
    "movies = movies.drop([19730, 29503, 35587])\n",
    "movies['id'] = movies['id'].astype('int')\n",
    "movies['genres'] = movies['genres'].fillna('[]').apply(literal_eval).apply(lambda x: [i['name'] for i in x] if isinstance(x, list) else [])\n",
    "movies['description'] = movies['overview']\n",
    "movies['description'] = movies['description'].fillna('')\n",
    "\n",
    "ratings_df = pd.read_csv('/kaggle/input/the-movies-dataset/ratings.csv')\n",
    "#movies = movies[movies['id'].isin(links_small)]"
   ]
  },
  {
   "cell_type": "code",
   "execution_count": 28,
   "metadata": {
    "execution": {
     "iopub.execute_input": "2025-08-19T15:38:09.270327Z",
     "iopub.status.busy": "2025-08-19T15:38:09.270036Z",
     "iopub.status.idle": "2025-08-19T15:38:09.290516Z",
     "shell.execute_reply": "2025-08-19T15:38:09.289781Z",
     "shell.execute_reply.started": "2025-08-19T15:38:09.270301Z"
    },
    "trusted": true
   },
   "outputs": [],
   "source": [
    "columns_take = ['genres', 'id', 'title', 'description']\n",
    "all_columns = movies.columns\n",
    "columns_drop = [column for column in all_columns if column not in columns_take]\n",
    "movies = movies.drop(columns=columns_drop)"
   ]
  },
  {
   "cell_type": "code",
   "execution_count": 29,
   "metadata": {
    "execution": {
     "iopub.execute_input": "2025-08-19T15:38:09.293157Z",
     "iopub.status.busy": "2025-08-19T15:38:09.292903Z",
     "iopub.status.idle": "2025-08-19T15:38:09.811967Z",
     "shell.execute_reply": "2025-08-19T15:38:09.810964Z",
     "shell.execute_reply.started": "2025-08-19T15:38:09.293133Z"
    },
    "trusted": true
   },
   "outputs": [
    {
     "name": "stdout",
     "output_type": "stream",
     "text": [
      "Number of unique movie IDs in ratings dataframe: 45115\n",
      "Number of movie IDs in movies dataframe: 45433\n",
      "Number of movie IDs present in ratings but missing from movies: 37550\n",
      "Percentage of missing movies: 83.23%\n"
     ]
    }
   ],
   "source": [
    "movies_df = movies.copy()\n",
    "unique_movie_ids_in_ratings = ratings_df['movieId'].unique()\n",
    "print(f\"Number of unique movie IDs in ratings dataframe: {len(ratings_df['movieId'].unique())}\")\n",
    "\n",
    "# Get all movie IDs from movies dataframe\n",
    "all_movie_ids_in_movies = set(movies_df['id'])\n",
    "print(f\"Number of movie IDs in movies dataframe: {len(all_movie_ids_in_movies)}\")\n",
    "\n",
    "# Find movie IDs that are in ratings but not in movies\n",
    "missing_movie_ids = [movie_id for movie_id in unique_movie_ids_in_ratings \n",
    "                     if movie_id not in all_movie_ids_in_movies]\n",
    "\n",
    "print(f\"Number of movie IDs present in ratings but missing from movies: {len(missing_movie_ids)}\")\n",
    "print(f\"Percentage of missing movies: {len(missing_movie_ids) / len(unique_movie_ids_in_ratings) * 100:.2f}%\")\n"
   ]
  },
  {
   "cell_type": "code",
   "execution_count": 30,
   "metadata": {
    "execution": {
     "iopub.execute_input": "2025-08-19T15:38:09.813283Z",
     "iopub.status.busy": "2025-08-19T15:38:09.812961Z",
     "iopub.status.idle": "2025-08-19T15:38:11.018379Z",
     "shell.execute_reply": "2025-08-19T15:38:11.017336Z",
     "shell.execute_reply.started": "2025-08-19T15:38:09.813254Z"
    },
    "trusted": true
   },
   "outputs": [
    {
     "name": "stdout",
     "output_type": "stream",
     "text": [
      "Number of unique movie IDs in ratings dataframe: 45115\n",
      "Number of movies with at least one rating: 7569\n",
      "Number of movies removed: 37894\n",
      "Percentage of original movies kept: 16.65%\n"
     ]
    },
    {
     "data": {
      "text/html": [
       "<div>\n",
       "<style scoped>\n",
       "    .dataframe tbody tr th:only-of-type {\n",
       "        vertical-align: middle;\n",
       "    }\n",
       "\n",
       "    .dataframe tbody tr th {\n",
       "        vertical-align: top;\n",
       "    }\n",
       "\n",
       "    .dataframe thead th {\n",
       "        text-align: right;\n",
       "    }\n",
       "</style>\n",
       "<table border=\"1\" class=\"dataframe\">\n",
       "  <thead>\n",
       "    <tr style=\"text-align: right;\">\n",
       "      <th></th>\n",
       "      <th>genres</th>\n",
       "      <th>id</th>\n",
       "      <th>title</th>\n",
       "      <th>description</th>\n",
       "    </tr>\n",
       "  </thead>\n",
       "  <tbody>\n",
       "    <tr>\n",
       "      <th>0</th>\n",
       "      <td>[Animation, Comedy, Family]</td>\n",
       "      <td>862</td>\n",
       "      <td>Toy Story</td>\n",
       "      <td>Led by Woody, Andy's toys live happily in his ...</td>\n",
       "    </tr>\n",
       "    <tr>\n",
       "      <th>1</th>\n",
       "      <td>[Adventure, Fantasy, Family]</td>\n",
       "      <td>8844</td>\n",
       "      <td>Jumanji</td>\n",
       "      <td>When siblings Judy and Peter discover an encha...</td>\n",
       "    </tr>\n",
       "    <tr>\n",
       "      <th>5</th>\n",
       "      <td>[Action, Crime, Drama, Thriller]</td>\n",
       "      <td>949</td>\n",
       "      <td>Heat</td>\n",
       "      <td>Obsessive master thief, Neil McCauley leads a ...</td>\n",
       "    </tr>\n",
       "    <tr>\n",
       "      <th>9</th>\n",
       "      <td>[Adventure, Action, Thriller]</td>\n",
       "      <td>710</td>\n",
       "      <td>GoldenEye</td>\n",
       "      <td>James Bond must unmask the mysterious head of ...</td>\n",
       "    </tr>\n",
       "    <tr>\n",
       "      <th>14</th>\n",
       "      <td>[Action, Adventure]</td>\n",
       "      <td>1408</td>\n",
       "      <td>Cutthroat Island</td>\n",
       "      <td>Morgan Adams and her slave, William Shaw, are ...</td>\n",
       "    </tr>\n",
       "  </tbody>\n",
       "</table>\n",
       "</div>"
      ],
      "text/plain": [
       "                              genres    id             title  \\\n",
       "0        [Animation, Comedy, Family]   862         Toy Story   \n",
       "1       [Adventure, Fantasy, Family]  8844           Jumanji   \n",
       "5   [Action, Crime, Drama, Thriller]   949              Heat   \n",
       "9      [Adventure, Action, Thriller]   710         GoldenEye   \n",
       "14               [Action, Adventure]  1408  Cutthroat Island   \n",
       "\n",
       "                                          description  \n",
       "0   Led by Woody, Andy's toys live happily in his ...  \n",
       "1   When siblings Judy and Peter discover an encha...  \n",
       "5   Obsessive master thief, Neil McCauley leads a ...  \n",
       "9   James Bond must unmask the mysterious head of ...  \n",
       "14  Morgan Adams and her slave, William Shaw, are ...  "
      ]
     },
     "execution_count": 30,
     "metadata": {},
     "output_type": "execute_result"
    }
   ],
   "source": [
    "import pandas as pd\n",
    "\n",
    "movie_ids_in_ratings = set(ratings_df['movieId'].unique())\n",
    "print(f\"Number of unique movie IDs in ratings dataframe: {len(movie_ids_in_ratings)}\")\n",
    "\n",
    "filtered_movies_df = movies_df[movies_df['id'].isin(movie_ids_in_ratings)]\n",
    "filtered_ratings_df = ratings_df[ratings_df['movieId'].isin(set(movies_df['id']))]\n",
    "\n",
    "print(f\"Number of movies with at least one rating: {len(filtered_movies_df)}\")\n",
    "print(f\"Number of movies removed: {len(movies_df) - len(filtered_movies_df)}\")\n",
    "print(f\"Percentage of original movies kept: {len(filtered_movies_df) / len(movies_df) * 100:.2f}%\")\n",
    "# filtered_movies_df.to_csv('filtered_movies.csv', index=False)\n",
    "filtered_movies_df.head()"
   ]
  },
  {
   "cell_type": "code",
   "execution_count": 31,
   "metadata": {
    "execution": {
     "iopub.execute_input": "2025-08-19T15:38:11.019978Z",
     "iopub.status.busy": "2025-08-19T15:38:11.019633Z",
     "iopub.status.idle": "2025-08-19T15:38:11.149090Z",
     "shell.execute_reply": "2025-08-19T15:38:11.147968Z",
     "shell.execute_reply.started": "2025-08-19T15:38:11.019950Z"
    },
    "trusted": true
   },
   "outputs": [
    {
     "data": {
      "text/html": [
       "<div>\n",
       "<style scoped>\n",
       "    .dataframe tbody tr th:only-of-type {\n",
       "        vertical-align: middle;\n",
       "    }\n",
       "\n",
       "    .dataframe tbody tr th {\n",
       "        vertical-align: top;\n",
       "    }\n",
       "\n",
       "    .dataframe thead th {\n",
       "        text-align: right;\n",
       "    }\n",
       "</style>\n",
       "<table border=\"1\" class=\"dataframe\">\n",
       "  <thead>\n",
       "    <tr style=\"text-align: right;\">\n",
       "      <th></th>\n",
       "      <th>userId</th>\n",
       "      <th>movieId</th>\n",
       "      <th>rating</th>\n",
       "    </tr>\n",
       "  </thead>\n",
       "  <tbody>\n",
       "    <tr>\n",
       "      <th>0</th>\n",
       "      <td>1</td>\n",
       "      <td>110</td>\n",
       "      <td>1.0</td>\n",
       "    </tr>\n",
       "    <tr>\n",
       "      <th>1</th>\n",
       "      <td>1</td>\n",
       "      <td>147</td>\n",
       "      <td>4.5</td>\n",
       "    </tr>\n",
       "    <tr>\n",
       "      <th>2</th>\n",
       "      <td>1</td>\n",
       "      <td>858</td>\n",
       "      <td>5.0</td>\n",
       "    </tr>\n",
       "    <tr>\n",
       "      <th>4</th>\n",
       "      <td>1</td>\n",
       "      <td>1246</td>\n",
       "      <td>5.0</td>\n",
       "    </tr>\n",
       "    <tr>\n",
       "      <th>5</th>\n",
       "      <td>1</td>\n",
       "      <td>1968</td>\n",
       "      <td>4.0</td>\n",
       "    </tr>\n",
       "  </tbody>\n",
       "</table>\n",
       "</div>"
      ],
      "text/plain": [
       "   userId  movieId  rating\n",
       "0       1      110     1.0\n",
       "1       1      147     4.5\n",
       "2       1      858     5.0\n",
       "4       1     1246     5.0\n",
       "5       1     1968     4.0"
      ]
     },
     "execution_count": 31,
     "metadata": {},
     "output_type": "execute_result"
    }
   ],
   "source": [
    "filtered_ratings_df = filtered_ratings_df.drop(columns=['timestamp'])\n",
    "filtered_ratings_df.head()"
   ]
  },
  {
   "cell_type": "code",
   "execution_count": 36,
   "metadata": {
    "execution": {
     "iopub.execute_input": "2025-08-19T15:40:44.780559Z",
     "iopub.status.busy": "2025-08-19T15:40:44.780228Z",
     "iopub.status.idle": "2025-08-19T15:40:45.206649Z",
     "shell.execute_reply": "2025-08-19T15:40:45.205726Z",
     "shell.execute_reply.started": "2025-08-19T15:40:44.780511Z"
    },
    "trusted": true
   },
   "outputs": [
    {
     "data": {
      "text/html": [
       "<div>\n",
       "<style scoped>\n",
       "    .dataframe tbody tr th:only-of-type {\n",
       "        vertical-align: middle;\n",
       "    }\n",
       "\n",
       "    .dataframe tbody tr th {\n",
       "        vertical-align: top;\n",
       "    }\n",
       "\n",
       "    .dataframe thead th {\n",
       "        text-align: right;\n",
       "    }\n",
       "</style>\n",
       "<table border=\"1\" class=\"dataframe\">\n",
       "  <thead>\n",
       "    <tr style=\"text-align: right;\">\n",
       "      <th></th>\n",
       "      <th>userId</th>\n",
       "      <th>movieId</th>\n",
       "      <th>rating</th>\n",
       "    </tr>\n",
       "  </thead>\n",
       "  <tbody>\n",
       "    <tr>\n",
       "      <th>1711</th>\n",
       "      <td>24</td>\n",
       "      <td>2</td>\n",
       "      <td>3.0</td>\n",
       "    </tr>\n",
       "    <tr>\n",
       "      <th>1712</th>\n",
       "      <td>24</td>\n",
       "      <td>6</td>\n",
       "      <td>4.0</td>\n",
       "    </tr>\n",
       "    <tr>\n",
       "      <th>1713</th>\n",
       "      <td>24</td>\n",
       "      <td>16</td>\n",
       "      <td>3.0</td>\n",
       "    </tr>\n",
       "    <tr>\n",
       "      <th>1714</th>\n",
       "      <td>24</td>\n",
       "      <td>17</td>\n",
       "      <td>3.0</td>\n",
       "    </tr>\n",
       "    <tr>\n",
       "      <th>1715</th>\n",
       "      <td>24</td>\n",
       "      <td>21</td>\n",
       "      <td>4.0</td>\n",
       "    </tr>\n",
       "    <tr>\n",
       "      <th>...</th>\n",
       "      <td>...</td>\n",
       "      <td>...</td>\n",
       "      <td>...</td>\n",
       "    </tr>\n",
       "    <tr>\n",
       "      <th>26023494</th>\n",
       "      <td>270887</td>\n",
       "      <td>166643</td>\n",
       "      <td>5.0</td>\n",
       "    </tr>\n",
       "    <tr>\n",
       "      <th>26023501</th>\n",
       "      <td>270887</td>\n",
       "      <td>167738</td>\n",
       "      <td>4.0</td>\n",
       "    </tr>\n",
       "    <tr>\n",
       "      <th>26023509</th>\n",
       "      <td>270887</td>\n",
       "      <td>168712</td>\n",
       "      <td>5.0</td>\n",
       "    </tr>\n",
       "    <tr>\n",
       "      <th>26023510</th>\n",
       "      <td>270887</td>\n",
       "      <td>169864</td>\n",
       "      <td>5.0</td>\n",
       "    </tr>\n",
       "    <tr>\n",
       "      <th>26023518</th>\n",
       "      <td>270887</td>\n",
       "      <td>171755</td>\n",
       "      <td>3.0</td>\n",
       "    </tr>\n",
       "  </tbody>\n",
       "</table>\n",
       "<p>4045509 rows × 3 columns</p>\n",
       "</div>"
      ],
      "text/plain": [
       "          userId  movieId  rating\n",
       "1711          24        2     3.0\n",
       "1712          24        6     4.0\n",
       "1713          24       16     3.0\n",
       "1714          24       17     3.0\n",
       "1715          24       21     4.0\n",
       "...          ...      ...     ...\n",
       "26023494  270887   166643     5.0\n",
       "26023501  270887   167738     4.0\n",
       "26023509  270887   168712     5.0\n",
       "26023510  270887   169864     5.0\n",
       "26023518  270887   171755     3.0\n",
       "\n",
       "[4045509 rows x 3 columns]"
      ]
     },
     "execution_count": 36,
     "metadata": {},
     "output_type": "execute_result"
    }
   ],
   "source": [
    "percentile = 0.05\n",
    "user_rating_counts = filtered_ratings_df['userId'].value_counts()\n",
    "num_top_users = int(np.ceil(len(user_rating_counts) * percentile))\n",
    "top_users = user_rating_counts.nlargest(num_top_users).index.tolist()\n",
    "filtered_df = filtered_ratings_df[filtered_ratings_df['userId'].isin(top_users)].copy()\n",
    "filtered_df"
   ]
  },
  {
   "cell_type": "code",
   "execution_count": 37,
   "metadata": {
    "execution": {
     "iopub.execute_input": "2025-08-19T15:40:48.478301Z",
     "iopub.status.busy": "2025-08-19T15:40:48.477959Z",
     "iopub.status.idle": "2025-08-19T15:40:48.812266Z",
     "shell.execute_reply": "2025-08-19T15:40:48.811191Z",
     "shell.execute_reply.started": "2025-08-19T15:40:48.478276Z"
    },
    "trusted": true
   },
   "outputs": [],
   "source": [
    "num_users = filtered_df['userId'].nunique()\n",
    "num_items = filtered_df['movieId'].nunique()\n",
    "\n",
    "user_mapping = {id: idx for idx, id in enumerate(filtered_df['userId'].unique())}\n",
    "item_mapping = {id: idx for idx, id in enumerate(filtered_df['movieId'].unique())}\n",
    "#convert non-sequential user IDs to sequential indices for matrix factorization\n",
    "filtered_df['user_idx'] = filtered_df['userId'].map(user_mapping)\n",
    "filtered_df['item_idx'] = filtered_df['movieId'].map(item_mapping)\n",
    "\n",
    "filtered_df.drop(columns=['userId', 'movieId'], inplace=True)"
   ]
  },
  {
   "cell_type": "code",
   "execution_count": 41,
   "metadata": {
    "execution": {
     "iopub.execute_input": "2025-08-19T15:41:19.978693Z",
     "iopub.status.busy": "2025-08-19T15:41:19.978363Z",
     "iopub.status.idle": "2025-08-19T15:41:19.983773Z",
     "shell.execute_reply": "2025-08-19T15:41:19.982723Z",
     "shell.execute_reply.started": "2025-08-19T15:41:19.978667Z"
    },
    "trusted": true
   },
   "outputs": [],
   "source": [
    "from surprise import Reader, Dataset, SVD, SlopeOne, accuracy\n",
    "from surprise.model_selection import KFold\n",
    "from surprise.model_selection import train_test_split\n",
    "import pandas as pd"
   ]
  },
  {
   "cell_type": "code",
   "execution_count": null,
   "metadata": {
    "execution": {
     "iopub.status.busy": "2025-08-19T15:38:11.959069Z",
     "iopub.status.idle": "2025-08-19T15:38:11.959399Z",
     "shell.execute_reply": "2025-08-19T15:38:11.959233Z",
     "shell.execute_reply.started": "2025-08-19T15:38:11.959221Z"
    },
    "jupyter": {
     "source_hidden": true
    },
    "trusted": true
   },
   "outputs": [],
   "source": [
    "\"\"\"\n",
    "SVD implementation for reference\n",
    "\n",
    "class SVD(AlgoBase):\n",
    "\n",
    "    The prediction :math:`\\\\hat{r}_{ui}` is set as:\n",
    "\n",
    "    .. math::\n",
    "        \\\\hat{r}_{ui} = \\\\mu + b_u + b_i + q_i^Tp_u\n",
    "\n",
    "    If user :math:`u` is unknown, then the bias :math:`b_u` and the factors\n",
    "    :math:`p_u` are assumed to be zero. The same applies for item :math:`i`\n",
    "    with :math:`b_i` and :math:`q_i`.\n",
    "\n",
    "    To estimate all the unknown, we minimize the following regularized squared\n",
    "    error:\n",
    "\n",
    "    .. math::\n",
    "        \\\\sum_{r_{ui} \\\\in R_{train}} \\\\left(r_{ui} - \\\\hat{r}_{ui} \\\\right)^2 +\n",
    "        \\\\lambda\\\\left(b_i^2 + b_u^2 + ||q_i||^2 + ||p_u||^2\\\\right)\n",
    "\n",
    "\n",
    "    The minimization is performed by a very straightforward stochastic gradient\n",
    "    descent:\n",
    "\n",
    "    .. math::\n",
    "        b_u &\\\\leftarrow b_u &+ \\\\gamma (e_{ui} - \\\\lambda b_u)\\\\\\\\\n",
    "        b_i &\\\\leftarrow b_i &+ \\\\gamma (e_{ui} - \\\\lambda b_i)\\\\\\\\\n",
    "        p_u &\\\\leftarrow p_u &+ \\\\gamma (e_{ui} \\\\cdot q_i - \\\\lambda p_u)\\\\\\\\\n",
    "        q_i &\\\\leftarrow q_i &+ \\\\gamma (e_{ui} \\\\cdot p_u - \\\\lambda q_i)\n",
    "\n",
    "    where :math:`e_{ui} = r_{ui} - \\\\hat{r}_{ui}`. These steps are performed\n",
    "    over all the ratings of the trainset and repeated ``n_epochs`` times.\n",
    "    Baselines are initialized to ``0``. User and item factors are randomly\n",
    "    initialized according to a normal distribution, which can be tuned using\n",
    "    the ``init_mean`` and ``init_std_dev`` parameters.\n",
    "\n",
    "    learning rate :math:`\\\\gamma` and the\n",
    "    regularization term :math:`\\\\lambda` can be different for each\n",
    "    kind of parameter (see below). \n",
    "\n",
    "    Args:\n",
    "        n_factors: The number of factors. Default is ``100``.\n",
    "        n_epochs: The number of iteration of the SGD procedure. Default is\n",
    "            ``20``.\n",
    "        biased(bool): Whether to use baselines (or biases). See :ref:`note\n",
    "            <unbiased_note>` above.  Default is ``True``.\n",
    "        init_mean: The mean of the normal distribution for factor vectors\n",
    "            initialization. Default is ``0``.\n",
    "        init_std_dev: The standard deviation of the normal distribution for\n",
    "            factor vectors initialization. Default is ``0.1``.\n",
    "        lr_all: The learning rate for all parameters. Default is ``0.005``.\n",
    "        reg_all: The regularization term for all parameters. Default is\n",
    "            ``0.02``.\n",
    "        lr_bu: The learning rate for :math:`b_u`. Takes precedence over\n",
    "            ``lr_all`` if set. Default is ``None``.\n",
    "        lr_bi: The learning rate for :math:`b_i`. Takes precedence over\n",
    "            ``lr_all`` if set. Default is ``None``.\n",
    "        lr_pu: The learning rate for :math:`p_u`. Takes precedence over\n",
    "            ``lr_all`` if set. Default is ``None``.\n",
    "        lr_qi: The learning rate for :math:`q_i`. Takes precedence over\n",
    "            ``lr_all`` if set. Default is ``None``.\n",
    "        reg_bu: The regularization term for :math:`b_u`. Takes precedence\n",
    "            over ``reg_all`` if set. Default is ``None``.\n",
    "        reg_bi: The regularization term for :math:`b_i`. Takes precedence\n",
    "            over ``reg_all`` if set. Default is ``None``.\n",
    "        reg_pu: The regularization term for :math:`p_u`. Takes precedence\n",
    "            over ``reg_all`` if set. Default is ``None``.\n",
    "        reg_qi: The regularization term for :math:`q_i`. Takes precedence\n",
    "            over ``reg_all`` if set. Default is ``None``.\n",
    "        random_state(int, RandomState instance from numpy, or ``None``):\n",
    "            Determines the RNG that will be used for initialization. If\n",
    "            int, ``random_state`` will be used as a seed for a new RNG. This is\n",
    "            useful to get the same initialization over multiple calls to\n",
    "            ``fit()``.  If RandomState instance, this same instance is used as\n",
    "            RNG. If ``None``, the current RNG from numpy is used.  Default is\n",
    "            ``None``.\n",
    "        verbose: If ``True``, prints the current epoch. Default is ``False``.\n",
    "\n",
    "    Attributes:\n",
    "        pu(numpy array of size (n_users, n_factors)): The user factors (only\n",
    "            exists if ``fit()`` has been called)\n",
    "        qi(numpy array of size (n_items, n_factors)): The item factors (only\n",
    "            exists if ``fit()`` has been called)\n",
    "        bu(numpy array of size (n_users)): The user biases (only\n",
    "            exists if ``fit()`` has been called)\n",
    "        bi(numpy array of size (n_items)): The item biases (only\n",
    "            exists if ``fit()`` has been called)\n",
    "\n",
    "\n",
    "    def __init__(self, n_factors=100, n_epochs=20, biased=True, init_mean=0,\n",
    "                 init_std_dev=.1, lr_all=.005,\n",
    "                 reg_all=.02, lr_bu=None, lr_bi=None, lr_pu=None, lr_qi=None,\n",
    "                 reg_bu=None, reg_bi=None, reg_pu=None, reg_qi=None,\n",
    "                 random_state=None, verbose=False):\n",
    "\n",
    "        self.n_factors = n_factors\n",
    "        self.n_epochs = n_epochs\n",
    "        self.biased = biased\n",
    "        self.init_mean = init_mean\n",
    "        self.init_std_dev = init_std_dev\n",
    "        self.lr_bu = lr_bu if lr_bu is not None else lr_all\n",
    "        self.lr_bi = lr_bi if lr_bi is not None else lr_all\n",
    "        self.lr_pu = lr_pu if lr_pu is not None else lr_all\n",
    "        self.lr_qi = lr_qi if lr_qi is not None else lr_all\n",
    "        self.reg_bu = reg_bu if reg_bu is not None else reg_all\n",
    "        self.reg_bi = reg_bi if reg_bi is not None else reg_all\n",
    "        self.reg_pu = reg_pu if reg_pu is not None else reg_all\n",
    "        self.reg_qi = reg_qi if reg_qi is not None else reg_all\n",
    "        self.random_state = random_state\n",
    "        self.verbose = verbose\n",
    "\n",
    "        AlgoBase.__init__(self)\n",
    "\n",
    "    def fit(self, trainset):\n",
    "\n",
    "        AlgoBase.fit(self, trainset)\n",
    "        self.sgd(trainset)\n",
    "\n",
    "        return self\n",
    "\n",
    "    def sgd(self, trainset):\n",
    "\n",
    "        # for f in range(n_factors):\n",
    "        #       for _ in range(n_iter):\n",
    "        #           for u, i, r in all_ratings:\n",
    "        #               err = r_ui - <p[u, :f+1], q[i, :f+1]>\n",
    "        #               update p[u, f]\n",
    "        #               update q[i, f]\n",
    "\n",
    "\n",
    "        rng = get_rng(self.random_state)\n",
    "\n",
    "        # user biases\n",
    "        cdef double [::1] bu = np.zeros(trainset.n_users, dtype=np.double)\n",
    "        # item biases\n",
    "        cdef double [::1] bi = np.zeros(trainset.n_items, dtype=np.double)\n",
    "        # user factors\n",
    "        cdef double [:, ::1] pu = rng.normal(self.init_mean, self.init_std_dev, size=(trainset.n_users, self.n_factors))\n",
    "        # item factors\n",
    "        cdef double [:, ::1] qi = rng.normal(self.init_mean, self.init_std_dev, size=(trainset.n_items, self.n_factors))\n",
    "\n",
    "        cdef int u, i, f\n",
    "        cdef int n_factors = self.n_factors\n",
    "        cdef bint biased = self.biased\n",
    "\n",
    "        cdef double r, err, dot, puf, qif\n",
    "        cdef double global_mean = self.trainset.global_mean\n",
    "\n",
    "        cdef double lr_bu = self.lr_bu\n",
    "        cdef double lr_bi = self.lr_bi\n",
    "        cdef double lr_pu = self.lr_pu\n",
    "        cdef double lr_qi = self.lr_qi\n",
    "\n",
    "        cdef double reg_bu = self.reg_bu\n",
    "        cdef double reg_bi = self.reg_bi\n",
    "        cdef double reg_pu = self.reg_pu\n",
    "        cdef double reg_qi = self.reg_qi\n",
    "\n",
    "        if not biased:\n",
    "            global_mean = 0\n",
    "\n",
    "        for current_epoch in range(self.n_epochs):\n",
    "            if self.verbose:\n",
    "                print(\"Processing epoch {}\".format(current_epoch))\n",
    "\n",
    "            for u, i, r in trainset.all_ratings():\n",
    "                # compute current error\n",
    "                dot = 0  # <q_i, p_u>\n",
    "                for f in range(n_factors):\n",
    "                    dot += qi[i, f] * pu[u, f]\n",
    "                err = r - (global_mean + bu[u] + bi[i] + dot)\n",
    "\n",
    "                # update biases\n",
    "                if biased:\n",
    "                    bu[u] += lr_bu * (err - reg_bu * bu[u])\n",
    "                    bi[i] += lr_bi * (err - reg_bi * bi[i])\n",
    "\n",
    "                # update factors\n",
    "                for f in range(n_factors):\n",
    "                    puf = pu[u, f]\n",
    "                    qif = qi[i, f]\n",
    "                    pu[u, f] += lr_pu * (err * qif - reg_pu * puf)\n",
    "                    qi[i, f] += lr_qi * (err * puf - reg_qi * qif)\n",
    "\n",
    "        self.bu = np.asarray(bu)\n",
    "        self.bi = np.asarray(bi)\n",
    "        self.pu = np.asarray(pu)\n",
    "        self.qi = np.asarray(qi)\n",
    "\"\"\""
   ]
  },
  {
   "cell_type": "code",
   "execution_count": 51,
   "metadata": {
    "execution": {
     "iopub.execute_input": "2025-08-19T17:02:30.471110Z",
     "iopub.status.busy": "2025-08-19T17:02:30.469163Z",
     "iopub.status.idle": "2025-08-19T17:02:30.485861Z",
     "shell.execute_reply": "2025-08-19T17:02:30.484650Z",
     "shell.execute_reply.started": "2025-08-19T17:02:30.470956Z"
    },
    "trusted": true
   },
   "outputs": [
    {
     "data": {
      "text/html": [
       "<div>\n",
       "<style scoped>\n",
       "    .dataframe tbody tr th:only-of-type {\n",
       "        vertical-align: middle;\n",
       "    }\n",
       "\n",
       "    .dataframe tbody tr th {\n",
       "        vertical-align: top;\n",
       "    }\n",
       "\n",
       "    .dataframe thead th {\n",
       "        text-align: right;\n",
       "    }\n",
       "</style>\n",
       "<table border=\"1\" class=\"dataframe\">\n",
       "  <thead>\n",
       "    <tr style=\"text-align: right;\">\n",
       "      <th></th>\n",
       "      <th>user_idx</th>\n",
       "      <th>item_idx</th>\n",
       "      <th>rating</th>\n",
       "    </tr>\n",
       "  </thead>\n",
       "  <tbody>\n",
       "    <tr>\n",
       "      <th>1711</th>\n",
       "      <td>0</td>\n",
       "      <td>0</td>\n",
       "      <td>3.0</td>\n",
       "    </tr>\n",
       "    <tr>\n",
       "      <th>1712</th>\n",
       "      <td>0</td>\n",
       "      <td>1</td>\n",
       "      <td>4.0</td>\n",
       "    </tr>\n",
       "    <tr>\n",
       "      <th>1713</th>\n",
       "      <td>0</td>\n",
       "      <td>2</td>\n",
       "      <td>3.0</td>\n",
       "    </tr>\n",
       "    <tr>\n",
       "      <th>1714</th>\n",
       "      <td>0</td>\n",
       "      <td>3</td>\n",
       "      <td>3.0</td>\n",
       "    </tr>\n",
       "    <tr>\n",
       "      <th>1715</th>\n",
       "      <td>0</td>\n",
       "      <td>4</td>\n",
       "      <td>4.0</td>\n",
       "    </tr>\n",
       "    <tr>\n",
       "      <th>...</th>\n",
       "      <td>...</td>\n",
       "      <td>...</td>\n",
       "      <td>...</td>\n",
       "    </tr>\n",
       "    <tr>\n",
       "      <th>26023494</th>\n",
       "      <td>13295</td>\n",
       "      <td>2203</td>\n",
       "      <td>5.0</td>\n",
       "    </tr>\n",
       "    <tr>\n",
       "      <th>26023501</th>\n",
       "      <td>13295</td>\n",
       "      <td>2146</td>\n",
       "      <td>4.0</td>\n",
       "    </tr>\n",
       "    <tr>\n",
       "      <th>26023509</th>\n",
       "      <td>13295</td>\n",
       "      <td>3187</td>\n",
       "      <td>5.0</td>\n",
       "    </tr>\n",
       "    <tr>\n",
       "      <th>26023510</th>\n",
       "      <td>13295</td>\n",
       "      <td>2512</td>\n",
       "      <td>5.0</td>\n",
       "    </tr>\n",
       "    <tr>\n",
       "      <th>26023518</th>\n",
       "      <td>13295</td>\n",
       "      <td>7348</td>\n",
       "      <td>3.0</td>\n",
       "    </tr>\n",
       "  </tbody>\n",
       "</table>\n",
       "<p>4045509 rows × 3 columns</p>\n",
       "</div>"
      ],
      "text/plain": [
       "          user_idx  item_idx  rating\n",
       "1711             0         0     3.0\n",
       "1712             0         1     4.0\n",
       "1713             0         2     3.0\n",
       "1714             0         3     3.0\n",
       "1715             0         4     4.0\n",
       "...            ...       ...     ...\n",
       "26023494     13295      2203     5.0\n",
       "26023501     13295      2146     4.0\n",
       "26023509     13295      3187     5.0\n",
       "26023510     13295      2512     5.0\n",
       "26023518     13295      7348     3.0\n",
       "\n",
       "[4045509 rows x 3 columns]"
      ]
     },
     "execution_count": 51,
     "metadata": {},
     "output_type": "execute_result"
    }
   ],
   "source": [
    "filtered_df"
   ]
  },
  {
   "cell_type": "code",
   "execution_count": 50,
   "metadata": {
    "execution": {
     "iopub.execute_input": "2025-08-19T17:02:27.476592Z",
     "iopub.status.busy": "2025-08-19T17:02:27.476243Z",
     "iopub.status.idle": "2025-08-19T17:02:27.541889Z",
     "shell.execute_reply": "2025-08-19T17:02:27.540575Z",
     "shell.execute_reply.started": "2025-08-19T17:02:27.476570Z"
    },
    "trusted": true
   },
   "outputs": [],
   "source": [
    "filtered_df = filtered_df[['user_idx', 'item_idx', 'rating']]"
   ]
  },
  {
   "cell_type": "code",
   "execution_count": 52,
   "metadata": {
    "execution": {
     "iopub.execute_input": "2025-08-19T17:02:33.717179Z",
     "iopub.status.busy": "2025-08-19T17:02:33.716848Z",
     "iopub.status.idle": "2025-08-19T17:27:25.259638Z",
     "shell.execute_reply": "2025-08-19T17:27:25.258389Z",
     "shell.execute_reply.started": "2025-08-19T17:02:33.717154Z"
    },
    "trusted": true
   },
   "outputs": [
    {
     "name": "stderr",
     "output_type": "stream",
     "text": [
      "Cross-validation:   0%|          | 0/5 [00:00<?, ?it/s]"
     ]
    },
    {
     "name": "stdout",
     "output_type": "stream",
     "text": [
      "MSE: 0.5910\n"
     ]
    },
    {
     "name": "stderr",
     "output_type": "stream",
     "text": [
      "Cross-validation:  20%|██        | 1/5 [04:56<19:46, 296.64s/it]"
     ]
    },
    {
     "name": "stdout",
     "output_type": "stream",
     "text": [
      "MAE:  0.5882\n",
      "0.5909758988026823 0.5881515794019595\n",
      "MSE: 0.5916\n"
     ]
    },
    {
     "name": "stderr",
     "output_type": "stream",
     "text": [
      "Cross-validation:  40%|████      | 2/5 [09:55<14:53, 297.80s/it]"
     ]
    },
    {
     "name": "stdout",
     "output_type": "stream",
     "text": [
      "MAE:  0.5879\n",
      "0.5915613528229694 0.587873419586319\n",
      "MSE: 0.5910\n"
     ]
    },
    {
     "name": "stderr",
     "output_type": "stream",
     "text": [
      "Cross-validation:  60%|██████    | 3/5 [14:46<09:49, 294.71s/it]"
     ]
    },
    {
     "name": "stdout",
     "output_type": "stream",
     "text": [
      "MAE:  0.5874\n",
      "0.5910471960047652 0.5873560777983525\n",
      "MSE: 0.5916\n"
     ]
    },
    {
     "name": "stderr",
     "output_type": "stream",
     "text": [
      "Cross-validation:  80%|████████  | 4/5 [19:51<04:58, 298.75s/it]"
     ]
    },
    {
     "name": "stdout",
     "output_type": "stream",
     "text": [
      "MAE:  0.5880\n",
      "0.5915537262749918 0.5879622325619329\n",
      "MSE: 0.5907\n"
     ]
    },
    {
     "name": "stderr",
     "output_type": "stream",
     "text": [
      "Cross-validation: 100%|██████████| 5/5 [24:47<00:00, 297.58s/it]"
     ]
    },
    {
     "name": "stdout",
     "output_type": "stream",
     "text": [
      "MAE:  0.5875\n",
      "0.5906521719850558 0.5874622061131664\n"
     ]
    },
    {
     "name": "stderr",
     "output_type": "stream",
     "text": [
      "\n"
     ]
    }
   ],
   "source": [
    "from surprise import SVD, Dataset, Reader\n",
    "from surprise.model_selection import KFold\n",
    "from tqdm import tqdm\n",
    "\n",
    "reader = Reader(rating_scale=(0.5, 5))\n",
    "data = Dataset.load_from_df(filtered_df, reader)\n",
    "\n",
    "kf = KFold(n_splits=5)\n",
    "svd = SVD(n_factors=200, n_epochs=60, lr_all=0.02, reg_all=0.03)\n",
    "\n",
    "for trainset, testset in tqdm(kf.split(data), total=kf.n_splits, desc=\"Cross-validation\"):\n",
    "    svd.fit(trainset)\n",
    "    predictions = svd.test(testset)\n",
    "    mse = accuracy.mse(predictions)\n",
    "    mae = accuracy.mae(predictions)\n",
    "    print(mse, mae)"
   ]
  },
  {
   "cell_type": "code",
   "execution_count": 45,
   "metadata": {
    "execution": {
     "iopub.execute_input": "2025-08-19T16:17:16.415663Z",
     "iopub.status.busy": "2025-08-19T16:17:16.414386Z",
     "iopub.status.idle": "2025-08-19T16:22:51.348977Z",
     "shell.execute_reply": "2025-08-19T16:22:51.347991Z",
     "shell.execute_reply.started": "2025-08-19T16:17:16.415629Z"
    },
    "trusted": true
   },
   "outputs": [
    {
     "name": "stdout",
     "output_type": "stream",
     "text": [
      "MSE: 1260545.7142\n",
      "MAE:  758.5500\n"
     ]
    },
    {
     "data": {
      "text/plain": [
       "758.5499969513552"
      ]
     },
     "execution_count": 45,
     "metadata": {},
     "output_type": "execute_result"
    }
   ],
   "source": [
    "trainset, testset = train_test_split(data, test_size=0.15)\n",
    "\n",
    "algo = SVD(n_factors = 200, n_epochs = 60, lr_all = 0.02, reg_all = 0.03)\n",
    "\n",
    "# Train the algorithm on the trainset, and predict ratings for the testset\n",
    "algo.fit(trainset)\n",
    "predictions = algo.test(testset)\n",
    "\n",
    "# Then compute RMSE\n",
    "accuracy.mse(predictions)\n",
    "accuracy.mae(predictions)\n"
   ]
  }
 ],
 "metadata": {
  "kaggle": {
   "accelerator": "none",
   "dataSources": [
    {
     "datasetId": 3405,
     "sourceId": 6663,
     "sourceType": "datasetVersion"
    }
   ],
   "dockerImageVersionId": 31089,
   "isGpuEnabled": false,
   "isInternetEnabled": true,
   "language": "python",
   "sourceType": "notebook"
  },
  "kernelspec": {
   "display_name": "Python 3",
   "language": "python",
   "name": "python3"
  },
  "language_info": {
   "codemirror_mode": {
    "name": "ipython",
    "version": 3
   },
   "file_extension": ".py",
   "mimetype": "text/x-python",
   "name": "python",
   "nbconvert_exporter": "python",
   "pygments_lexer": "ipython3",
   "version": "3.11.13"
  }
 },
 "nbformat": 4,
 "nbformat_minor": 4
}
